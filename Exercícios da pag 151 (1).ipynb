{
 "cells": [
  {
   "cell_type": "markdown",
   "metadata": {},
   "source": [
    "# Exercícios de cache da pag 151\n",
    "**1) Uma memória cache associativa por conjunto consiste em 256 linhas divididas em conjuntos de duas linhas cada. A memória principal contém 4K blocos de 128 bytes cada um. Mostre o formato de um endereço de MP e da cache.**"
   ]
  },
  {
   "cell_type": "code",
   "execution_count": 4,
   "metadata": {},
   "outputs": [
    {
     "name": "stdout",
     "output_type": "stream",
     "text": [
      "O formato de um endereço de MP e da cache nessa questão é Tag= 5.0 bits, Conjunto= 7.0 bits e Byte= 7.0 bits.\n"
     ]
    }
   ],
   "source": [
    "#Analizando a questão temos:\n",
    "#Número de linhas= 256= 2^8 linhas\n",
    "#Conjuntos de duas linhas cada\n",
    "#Número de blocos= 4K= 4.10^10= 2^12 blocos\n",
    "#Largura de 128 bytes\n",
    "#O formato de um endereço de MP e da cache nessa questão é TAG|CONJUNTO|BYTE\n",
    "import math\n",
    "Número_de_linhas= 2**8\n",
    "Número_de_blocos= 2**12\n",
    "Linhas_por_conjunto= 2\n",
    "Largura= 128\n",
    "Byte= math.log2(Largura)\n",
    "Conjuntos= Número_de_linhas/Linhas_por_conjunto\n",
    "Conjunto= math.log2(Conjuntos)\n",
    "Blocos_por_conjunto= Número_de_blocos/Conjuntos\n",
    "Tag= math.log2(Blocos_por_conjunto)\n",
    "print(\"O formato de um endereço de MP e da cache nessa questão é Tag=\",Tag,\"bits, Conjunto=\",Conjunto,\"bits e Byte=\",Byte,\"bits.\")"
   ]
  },
  {
   "cell_type": "markdown",
   "metadata": {},
   "source": [
    "**2) Em que circunstâncias uma cache que funciona com mapeamento associativo por conjunto pode ser considerada igual á cache que funciona com mapeamento direto?**\n",
    "\n",
    "Resposta: Quando a cache possui apenas um conjunto e este conjunto contém todas as linhas da cache."
   ]
  },
  {
   "cell_type": "markdown",
   "metadata": {},
   "source": [
    "**3) Considere um sistema de computação que possui uma memória principal (RAM) com capacidade máxima de endereçamento de 64K células, e que cada célula armazena um byte de informação. Para criar um sistema de controle e funcionamento da sua memória cache, a memória RAM é contituída de blocos de 8 bytes cada. A memória cache do sistema é do tipo mapeamento direto, contendo 32 linhas. Pergunta-se:**\n",
    "\n",
    "**a) Como seria organizado o endereço da MP (RAM) em termos de tag, número da linha e do byte dentro de uma linha?**\n",
    "\n",
    "**b) Em que linha estaria contido o byte armazenado no seguinte endereço da MP: 0001000100011011?**\n",
    "\n",
    "**c) Qual é a capacidade da memória cache em bytes?**"
   ]
  },
  {
   "cell_type": "code",
   "execution_count": 5,
   "metadata": {},
   "outputs": [
    {
     "name": "stdout",
     "output_type": "stream",
     "text": [
      "a) O endereço seria organizado com Tag= 8.0 bits, Linha= 5.0 bits e Byte= 3.0 bits.\n",
      "b) Como o endereço da MP está organizado em Tag= 8.0 bits, Linha= 5.0 bits e Byte= 3.0 bits o endereço 0001 000 1000 11011 estará contido na linha 00011.\n",
      "c) A capacidade da memória cache me bytes é, 256 ou 2^8 bytes.\n"
     ]
    }
   ],
   "source": [
    "#Analizando a questão temos:\n",
    "#MP= 64K = 2^6.2^10= 2^16\n",
    "#Cada célula armazena um byte de informação\n",
    "#Blocos de 8 bytes cada\n",
    "#A memória cache so sistema é do tipo mapeamento direto\n",
    "#32 linhas\n",
    "import math\n",
    "MP= 2**16\n",
    "Número_de_linhas= 2**5\n",
    "Largura= 8\n",
    "Número_de_blocos= MP/Largura\n",
    "Blocos_por_linhas= Número_de_blocos/Número_de_linhas\n",
    "Tag= math.log2(Blocos_por_linhas)\n",
    "Linha= math.log2(Número_de_linhas)\n",
    "Byte= math.log2(Largura)\n",
    "Capacidade_da_cache= Número_de_linhas*Largura\n",
    "print(\"a) O endereço seria organizado com Tag=\",Tag,\"bits, Linha=\",Linha,\"bits e Byte=\",Byte,\"bits.\")\n",
    "print(\"b) Como o endereço da MP está organizado em Tag=\",Tag,\"bits, Linha=\",Linha,\"bits e Byte=\",Byte,\"bits o endereço 0001 000 1000 11011 estará contido na linha 00011.\")\n",
    "print(\"c) A capacidade da memória cache me bytes é,\",Capacidade_da_cache,\"ou 2^8 bytes.\")"
   ]
  },
  {
   "cell_type": "markdown",
   "metadata": {},
   "source": [
    "**6) Ao se verificar a organização de uma memória cache e da MP de um sistema de computação, observa-se que a cache tem uma capcacidade de armazenamento muito menor que a MP e, ainda assim, sabe-se que em 100 acessos do procesador a cache ele obtém cerca de 95 a 98% de acertos. Por quê?**\n",
    "\n",
    "Resposta: A eficiencia das memorias cache sao da ordem de 95% a 98% devido ao principio da localidade, que é definido como sendo o fenomeno relacionado com o modo pelo qual os programas em média sao escritos pelo programador e executados pelo processador."
   ]
  },
  {
   "cell_type": "markdown",
   "metadata": {},
   "source": [
    "**7) Por que é necessário se estabelecer uma política para subtituição de linhas para os métodos de mapeamento associativo e não para o método direto?**\n",
    "\n",
    "Resposta: Por que no mapeamento associativo, os blocos sao colocados em qualquer posicao vaga, nao existindo um locao pre-definido. Assim, deve existir uma forma de escolher qual bloco saira quando a cacher estiver cheia."
   ]
  },
  {
   "cell_type": "markdown",
   "metadata": {},
   "source": [
    "**8) Considere uma MP que possui 4K blocos de 128 células de 1 byte cada e uma memória cache do tipo associativa por conjunto que possui 64 linhas divididas em conjuntos de quatro linhas. Qual deverá ser o formato do campo de endereçamento para acesso a MP e a memória cache?**"
   ]
  },
  {
   "cell_type": "code",
   "execution_count": 3,
   "metadata": {
    "scrolled": true
   },
   "outputs": [
    {
     "name": "stdout",
     "output_type": "stream",
     "text": [
      "O formato de um endereço de MP e da cache é Tag= 8.0 bits, Conjunto= 4.0 bits e Byte= 7.0 bits.\n"
     ]
    }
   ],
   "source": [
    "#Analizando a questão temos:\n",
    "#Número de blocos= 4K= 2^2.2^10= 2^12 blocos\n",
    "#largura de 128 bytes\n",
    "#Memória cache do tipo associativa por conjunto\n",
    "#64 linhas= 2^6 linhas\n",
    "#Conjuntos de 4 linhas\n",
    "#O formato do campo de endereçamento para acesso a MP e a memória cache do tipo associativo por conjunto é TAG|CONJUNTO|BYTE\n",
    "import math\n",
    "Número_de_linhas= 2**6\n",
    "Número_de_blocos= 2**12\n",
    "Linhas_por_conjunto= 4\n",
    "Largura= 128\n",
    "Byte= math.log2(Largura)\n",
    "Conjuntos= Número_de_linhas/Linhas_por_conjunto\n",
    "Conjunto= math.log2(Conjuntos)\n",
    "Blocos_por_conjunto= Número_de_blocos/Conjuntos\n",
    "Tag= math.log2(Blocos_por_conjunto)\n",
    "print(\"O formato de um endereço de MP e da cache é Tag=\",Tag,\"bits, Conjunto=\",Conjunto,\"bits e Byte=\",Byte,\"bits.\")\n"
   ]
  },
  {
   "cell_type": "markdown",
   "metadata": {},
   "source": [
    "**9) Considere um sistema de computação que possui uma memória principal organizada em células de 1 byte cada e apeans um memória cache externa, organizada com mapeamento direto, sendo cada linha de 32 bytes, Em um dado instante, o processador inicia um acesso colocando no BE comum o endereço hexadecimal: 5D7A9F2. Sabendo-se que neste sistema cada linha da cache tem atribuídos 512 blocos da MP, pergunta-se:**\n",
    "\n",
    "**a) Qual deverá ser a largura do BE do sistema**\n",
    "\n",
    "**b) Qual foi a linha acessada pelo processador?**"
   ]
  },
  {
   "cell_type": "code",
   "execution_count": 4,
   "metadata": {},
   "outputs": [
    {
     "name": "stdout",
     "output_type": "stream",
     "text": [
      "a) O hexadecimal 5D7A9F2 possui 7 algarismos logo, teremos 28 bits de endereço, assim temos que BE= 28 bits\n",
      "b) O hexadecimal 5D7A9F2 em binário é 0101110101111010100111110010 e como temos que Linha= 14.0 bits, Tag= 9.0 e Byte= 5.0 bits então a linha acessada foi a 11110101001111\n"
     ]
    }
   ],
   "source": [
    "#Analizando a questão temos:\n",
    "#Memória cache com mapeamento direto\n",
    "#largura de 32 bytes\n",
    "#Endereço hexadecimal:5D7A9F2\n",
    "#Blocos por linha= 512= 2^9\n",
    "import math\n",
    "E= 7*4\n",
    "Largura= 32\n",
    "Byte= math.log2(Largura)\n",
    "Blocos_por_linha= 2**9\n",
    "Tag= math.log2(Blocos_por_linha)\n",
    "Linha= E-Byte-Tag\n",
    "print(\"a) O hexadecimal 5D7A9F2 possui 7 algarismos logo, teremos\",E,\"bits de endereço, assim temos que BE=\",E,\"bits\")\n",
    "print(\"b) O hexadecimal 5D7A9F2 em binário é 0101110101111010100111110010 e como temos que Linha=\",Linha,\"bits, Tag=\",Tag,\"e Byte=\",Byte,\"bits então a linha acessada foi a 11110101001111\")"
   ]
  },
  {
   "cell_type": "markdown",
   "metadata": {},
   "source": [
    "**11) Considere um memória cache organizada com mapeamento associativo por conjunto, sendo cada conjunto de quatro linhas. A MP tem uma capacidade de armazenar 64MB, sendo organizada byte a byte, e o sistema transfere de cada vez (MP<---> cache) 32 bytes. Considerando que a capacidade da cache é de 64KB, mostre como deve ser o formato dos campos de endereço para a memória cache.**\n"
   ]
  },
  {
   "cell_type": "code",
   "execution_count": 5,
   "metadata": {},
   "outputs": [
    {
     "name": "stdout",
     "output_type": "stream",
     "text": [
      "O formato dos campos de endereço para a memória cache é Tag= 12.0 bits, Conjunto= 9.0 bits e Byte= 5.0 bits.\n"
     ]
    }
   ],
   "source": [
    "#Analizando a questão temos:\n",
    "#Memória cache do tipo associativa por conjunto\n",
    "#Conjunto de 4 linhas\n",
    "#Memória principal com capacidade de armazenar 64MB= 2^6.2^20= 2^26\n",
    "#Memória cache com capcacidade de 64KB= 2^6.2^10= 2^16\n",
    "#largura de 32 bytes\n",
    "#O formato dos campos de endereço para a memória cache do tipo associativo por conjunto é TAG|CONJUNTO|BYTE\n",
    "import math\n",
    "MP= 2**26\n",
    "MC= 2**16\n",
    "Largura= 32\n",
    "Número_de_linhas= MC/Largura\n",
    "Número_de_blocos= MP/Largura\n",
    "Linhas_por_conjunto= 4\n",
    "Byte= math.log2(Largura)\n",
    "Conjuntos= Número_de_linhas/Linhas_por_conjunto\n",
    "Conjunto= math.log2(Conjuntos)\n",
    "Blocos_por_conjunto= Número_de_blocos/Conjuntos\n",
    "Tag= math.log2(Blocos_por_conjunto)\n",
    "print(\"O formato dos campos de endereço para a memória cache é Tag=\",Tag,\"bits, Conjunto=\",Conjunto,\"bits e Byte=\",Byte,\"bits.\")\n"
   ]
  },
  {
   "cell_type": "markdown",
   "metadata": {},
   "source": [
    "**13) Considere um sistema de armazenamento contituído de uma memória principal, que é endereçada por byte e que tem uma capacidade de 256KB, sendo organizada em blcos de 16 bytes de largura. Considerando que seusa neste sistema o método de mapeamento direto para uma cache constituída de 128 linhas, pergunta-se:**\n",
    "\n",
    "**a) Qual deverá ser o formato do endereço a ser interpretado pelo sistema de controle da caché, indicando a largura de cada campo?**\n",
    "\n",
    "**b) Em que linhas deverão ser armazenados os bytes que possuam os seguintes endereços:**\n",
    "\n",
    "**-1011 1110 0010 1001 1101 0000 1100**\n",
    "\n",
    "**-0001 1010 0011 0001 0111 1000 1111**\n",
    "\n",
    "**c) Qual deverá ser o total de bits consumido nessa cache?**\n",
    "\n",
    "**d) Qual deverá ser o endereço do bloco que contém um byte com o seguinte endereço: 0010 1110 1001 0001 1110 0011 1110?**\n"
   ]
  },
  {
   "cell_type": "code",
   "execution_count": 6,
   "metadata": {},
   "outputs": [],
   "source": [
    "#Não é possível realizar a questão com os dados do comando"
   ]
  },
  {
   "cell_type": "markdown",
   "metadata": {},
   "source": [
    "**14) Considere um sistema de armazenamento com MP endereçada por byte, onde cada endereço tem uma largura de 30 bits e uma memória cachee contiruída de 256KB, possuindo L linhas com largura de 16 bytes. Calcule o total de bits da memória cache para um dos métodos de mapeamento: direto, associativo e associativo por conjunto.**"
   ]
  },
  {
   "cell_type": "code",
   "execution_count": 7,
   "metadata": {},
   "outputs": [
    {
     "name": "stdout",
     "output_type": "stream",
     "text": [
      "O total de bits da memória cache no mapeamento direto é  2293760.0 bits.\n"
     ]
    }
   ],
   "source": [
    "#Analizando a questão temos:\n",
    "#Endereço possui uma largura de 30 bits\n",
    "#Memória cache constituida de 256KB= 2^8.2^10= 2^18\n",
    "#Largura de 16 bytes\n",
    "#Fazendo com a memória cache com mapeamento direto\n",
    "import math\n",
    "MC= 2**18\n",
    "E= 30\n",
    "MP= 2**E\n",
    "Largura= 16\n",
    "Número_de_blocos= MP/Largura\n",
    "Número_de_linhas= MC/Largura\n",
    "Blocos_por_linhas= Número_de_blocos/Número_de_linhas\n",
    "Tag= math.log2(Blocos_por_linhas)\n",
    "Td= Número_de_linhas*Largura*8\n",
    "Tt= Número_de_linhas*Tag\n",
    "Total_de_bits_da_cache= Td+Tt\n",
    "print(\"O total de bits da memória cache no mapeamento direto é \",Total_de_bits_da_cache,\"bits.\")"
   ]
  },
  {
   "cell_type": "markdown",
   "metadata": {},
   "source": [
    "**15) Considere um sistema de armazenamento onde a MP é endereçada por byte, que utiliza o método de mapeamento direto na sua cache e onde o formato dos endereços interpretados pelo sistema de controle é:**\n",
    "\n",
    "**| Tag= 8 bits | Linha= 12 bits | Byte= 4 bits|**\n",
    "\n",
    "**a) Qual a capacidade de armazenamento da MP, em bytes?**\n",
    "\n",
    "**b) Quantas linhas possui a memória cache?**\n",
    "\n",
    "**c) Qual é a largura de cada bloco/linha?**\n",
    "\n",
    "**d) Qual é a quantidade de blocos atribuído a cada linha da cache?**"
   ]
  },
  {
   "cell_type": "code",
   "execution_count": 3,
   "metadata": {
    "scrolled": true
   },
   "outputs": [
    {
     "name": "stdout",
     "output_type": "stream",
     "text": [
      "a) A capacidade de armazenamento da MP é 16777216 ou 2^24 bytes\n",
      "b) A memória cache possui 4096 ou 2^12 linhas\n",
      "c) A largura de cada bloco/linha é de 16 bytes\n",
      "d) A quantidade de blocos atribuído a cada linha da cache é de 256 ou 2^8 blocos por linha\n"
     ]
    }
   ],
   "source": [
    "#Analizando a questão temos:\n",
    "#Memória cache com mapeamento direto\n",
    "#Tag= 8 bits\n",
    "#Linha= 12 bits\n",
    "#Byte= 4 bits\n",
    "import math\n",
    "Tag= 8\n",
    "Linha= 12 \n",
    "Byte= 4\n",
    "Largura= 2**Byte\n",
    "Número_de_linhas= 2**Linha\n",
    "Blocos_por_linha= 2**Tag\n",
    "Número_de_blocos= Número_de_linhas*Blocos_por_linha\n",
    "Capacidade_da_MP= Número_de_blocos*Largura\n",
    "print(\"a) A capacidade de armazenamento da MP é\",Capacidade_da_MP,\"ou 2^24 bytes\")\n",
    "print(\"b) A memória cache possui\",Número_de_linhas,\"ou 2^12 linhas\")\n",
    "print(\"c) A largura de cada bloco/linha é de\",Largura,\"bytes\")\n",
    "print(\"d) A quantidade de blocos atribuído a cada linha da cache é de\",Blocos_por_linha,\"ou 2^8 blocos por linha\")"
   ]
  },
  {
   "cell_type": "markdown",
   "metadata": {},
   "source": [
    "**16) Suponde que esse sistema utilize o método de mapeamento associativo por conjunto de 4 e que o formato do endereço de cache é:**\n",
    "\n",
    "**| Tag= 8 bits | Conjunto= 8 bits | Byte= 4 bits|**\n",
    "\n",
    "**a) Qual a capacidade de armazenamento da MP, em bytes?**\n",
    "\n",
    "**b) Quantas linhas possui a memória cache?**\n",
    "\n",
    "**c) Quantos conjuntos possui a memória cache?**\n",
    "\n",
    "**d) Qual é a largura de cada bloco/linha?**\n",
    "\n",
    "**e) Qual é a quantidade de blocos atribuído a cada linha da cache?**\n"
   ]
  },
  {
   "cell_type": "code",
   "execution_count": 10,
   "metadata": {},
   "outputs": [
    {
     "name": "stdout",
     "output_type": "stream",
     "text": [
      "a) A capacidade de armazenamento da MP é 1048576 ou 2^20 bytes\n",
      "b) A memória cache possui 1024 ou 2^10 linhas\n",
      "c) A memória cache possui 256 ou 2^8 conjuntos\n",
      "d) A largura de cada bloco/linha é 16 bytes\n",
      "e) A quantidade de blocos atribuído a cada linha da cache é de 64.0 ou 2^6 blocos por linha\n"
     ]
    }
   ],
   "source": [
    "#Analizando a questão temos:\n",
    "#Memória cache com mapeamento associativo\n",
    "#Conjunto de 4 linhas\n",
    "#Tag= 8 bits\n",
    "#Conjunto= 8 bits\n",
    "#Byte= 4 bits\n",
    "import math\n",
    "Tag= 8\n",
    "Conjunto= 8 \n",
    "Byte= 4\n",
    "Largura= 2**Byte\n",
    "Linhas_por_conjunto= 4\n",
    "Conjuntos= 2**Conjunto\n",
    "Número_de_linhas= Conjuntos*Linhas_por_conjunto\n",
    "Blocos_por_conjunto= 2**Tag\n",
    "Número_de_blocos= Blocos_por_conjunto*Conjuntos\n",
    "Blocos_por_linha= Número_de_blocos/Número_de_linhas\n",
    "Capacidade_da_MP= Número_de_blocos*Largura\n",
    "print(\"a) A capacidade de armazenamento da MP é\",Capacidade_da_MP,\"ou 2^20 bytes\")\n",
    "print(\"b) A memória cache possui\",Número_de_linhas,\"ou 2^10 linhas\")\n",
    "print(\"c) A memória cache possui\",Conjuntos,\"ou 2^8 conjuntos\")\n",
    "print(\"d) A largura de cada bloco/linha é\",Largura,\"bytes\")\n",
    "print(\"e) A quantidade de blocos atribuído a cada linha da cache é de\",Blocos_por_linha,\"ou 2^6 blocos por linha\")"
   ]
  }
 ],
 "metadata": {
  "kernelspec": {
   "display_name": "Python 3",
   "language": "python",
   "name": "python3"
  },
  "language_info": {
   "codemirror_mode": {
    "name": "ipython",
    "version": 3
   },
   "file_extension": ".py",
   "mimetype": "text/x-python",
   "name": "python",
   "nbconvert_exporter": "python",
   "pygments_lexer": "ipython3",
   "version": "3.6.13"
  }
 },
 "nbformat": 4,
 "nbformat_minor": 2
}
